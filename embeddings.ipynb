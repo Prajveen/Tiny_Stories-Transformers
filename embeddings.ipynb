{
 "cells": [
  {
   "cell_type": "code",
   "execution_count": 6,
   "metadata": {},
   "outputs": [],
   "source": [
    "import numpy as np\n",
    "import pandas as pd\n",
    "from datasets import load_dataset\n",
    "import sentencepiece as spm\n",
    "import gensim\n",
    "from gensim.models import Word2Vec\n",
    "import json"
   ]
  },
  {
   "cell_type": "code",
   "execution_count": 26,
   "metadata": {},
   "outputs": [
    {
     "name": "stdout",
     "output_type": "stream",
     "text": [
      "Total number of lines in the corpus.txt file: 22893436\n"
     ]
    }
   ],
   "source": [
    "# Specify the range of sentences you want to include\n",
    "start_index = 0  # Index of the first sentence you want to include\n",
    "end_index = 10000  # Index of the last sentence you want to include\n",
    "\n",
    "# Open the original corpus file for reading\n",
    "with open(\"corpus.txt\", \"r\") as original_file:\n",
    "    # Read all lines from the file\n",
    "    all_lines = original_file.readlines()\n",
    "\n",
    "# Count the number of lines\n",
    "num_lines = len(all_lines)\n",
    "\n",
    "print(f\"Total number of lines in the corpus.txt file: {num_lines}\")\n",
    "\n",
    "# Extract the subset of lines based on the specified range\n",
    "subset_lines = all_lines[start_index:end_index+1]  # Adding 1 to end_index to include it\n",
    "\n",
    "# Write the subset of lines to a new file\n",
    "with open(\"subset_corpus.txt\", \"w\") as subset_file:\n",
    "    subset_file.writelines(subset_lines)\n"
   ]
  },
  {
   "cell_type": "code",
   "execution_count": 29,
   "metadata": {},
   "outputs": [
    {
     "name": "stderr",
     "output_type": "stream",
     "text": [
      "sentencepiece_trainer.cc(178) LOG(INFO) Running command: --input=subset_corpus.txt --model_prefix=small_m --vocab_size=3927 --normalization_rule_name=nfkc_cf\n",
      "sentencepiece_trainer.cc(78) LOG(INFO) Starts training with : \n",
      "trainer_spec {\n",
      "  input: subset_corpus.txt\n",
      "  input_format: \n",
      "  model_prefix: small_m\n",
      "  model_type: UNIGRAM\n",
      "  vocab_size: 3927\n",
      "  self_test_sample_size: 0\n",
      "  character_coverage: 0.9995\n",
      "  input_sentence_size: 0\n",
      "  shuffle_input_sentence: 1\n",
      "  seed_sentencepiece_size: 1000000\n",
      "  shrinking_factor: 0.75\n",
      "  max_sentence_length: 4192\n",
      "  num_threads: 16\n",
      "  num_sub_iterations: 2\n",
      "  max_sentencepiece_length: 16\n",
      "  split_by_unicode_script: 1\n",
      "  split_by_number: 1\n",
      "  split_by_whitespace: 1\n",
      "  split_digits: 0\n",
      "  pretokenization_delimiter: \n",
      "  treat_whitespace_as_suffix: 0\n",
      "  allow_whitespace_only_pieces: 0\n",
      "  required_chars: \n",
      "  byte_fallback: 0\n",
      "  vocabulary_output_piece_score: 1\n",
      "  train_extremely_large_corpus: 0\n",
      "  seed_sentencepieces_file: \n",
      "  hard_vocab_limit: 1\n",
      "  use_all_vocab: 0\n",
      "  unk_id: 0\n",
      "  bos_id: 1\n",
      "  eos_id: 2\n",
      "  pad_id: -1\n",
      "  unk_piece: <unk>\n",
      "  bos_piece: <s>\n",
      "  eos_piece: </s>\n",
      "  pad_piece: <pad>\n",
      "  unk_surface:  ⁇ \n",
      "  enable_differential_privacy: 0\n",
      "  differential_privacy_noise_level: 0\n",
      "  differential_privacy_clipping_threshold: 0\n",
      "}\n",
      "normalizer_spec {\n",
      "  name: nfkc_cf\n",
      "  add_dummy_prefix: 1\n",
      "  remove_extra_whitespaces: 1\n",
      "  escape_whitespaces: 1\n",
      "  normalization_rule_tsv: \n",
      "}\n",
      "denormalizer_spec {}\n",
      "trainer_interface.cc(353) LOG(INFO) SentenceIterator is not specified. Using MultiFileSentenceIterator.\n",
      "trainer_interface.cc(185) LOG(INFO) Loading corpus: subset_corpus.txt\n",
      "trainer_interface.cc(409) LOG(INFO) Loaded all 5051 sentences\n",
      "trainer_interface.cc(425) LOG(INFO) Adding meta_piece: <unk>\n",
      "trainer_interface.cc(425) LOG(INFO) Adding meta_piece: <s>\n",
      "trainer_interface.cc(425) LOG(INFO) Adding meta_piece: </s>\n",
      "trainer_interface.cc(430) LOG(INFO) Normalizing sentences...\n",
      "trainer_interface.cc(539) LOG(INFO) all chars count=835437\n",
      "trainer_interface.cc(550) LOG(INFO) Done: 99.966% characters are covered.\n",
      "trainer_interface.cc(560) LOG(INFO) Alphabet size=36\n",
      "trainer_interface.cc(561) LOG(INFO) Final character coverage=0.99966\n",
      "trainer_interface.cc(592) LOG(INFO) Done! preprocessed 5046 sentences.\n",
      "unigram_model_trainer.cc(265) LOG(INFO) Making suffix array...\n",
      "unigram_model_trainer.cc(269) LOG(INFO) Extracting frequent sub strings... node_num=479331\n",
      "unigram_model_trainer.cc(312) LOG(INFO) Initialized 12829 seed sentencepieces\n",
      "trainer_interface.cc(598) LOG(INFO) Tokenizing input sentences with whitespace: 5046\n",
      "trainer_interface.cc(609) LOG(INFO) Done! 9722\n",
      "unigram_model_trainer.cc(602) LOG(INFO) Using 9722 sentences for EM training\n",
      "unigram_model_trainer.cc(618) LOG(INFO) EM sub_iter=0 size=5084 obj=9.3159 num_tokens=19055 num_tokens/piece=3.74803\n",
      "unigram_model_trainer.cc(618) LOG(INFO) EM sub_iter=1 size=3921 obj=7.39717 num_tokens=19108 num_tokens/piece=4.87325\n",
      "trainer_interface.cc(687) LOG(INFO) Saving model: small_m.model\n",
      "trainer_interface.cc(699) LOG(INFO) Saving vocabs: small_m.vocab\n"
     ]
    },
    {
     "data": {
      "text/plain": [
       "True"
      ]
     },
     "execution_count": 29,
     "metadata": {},
     "output_type": "execute_result"
    }
   ],
   "source": [
    "spm.SentencePieceTrainer.train('--input=subset_corpus.txt --model_prefix=small_m --vocab_size=3927 --normalization_rule_name=nfkc_cf')\n",
    "sp = spm.SentencePieceProcessor()\n",
    "sp.load('small_m.model')"
   ]
  },
  {
   "cell_type": "code",
   "execution_count": 30,
   "metadata": {},
   "outputs": [],
   "source": [
    "# Tokenized sentences as pieces\n",
    "# In the corpus you have all the data of the queries and also the passages, so the tokenization is done on everything\n",
    "tokenized_sentences = sp.encode_as_pieces(subset_lines)\n",
    "tokenized_sentences = {\n",
    "    subset_lines[i]: tokenized_sentences[i]\n",
    "    for i in range(0, len(subset_lines))\n",
    "}\n",
    "\n",
    "# Tokenized sentences as ids\n",
    "tokenized_sentences_with_ids = sp.encode_as_ids(subset_lines)\n",
    "tokenized_sentences_with_ids = {\n",
    "    subset_lines[i]: tokenized_sentences_with_ids[i]\n",
    "    for i in range(0, len(subset_lines))\n",
    "}"
   ]
  },
  {
   "cell_type": "code",
   "execution_count": 31,
   "metadata": {},
   "outputs": [
    {
     "name": "stdout",
     "output_type": "stream",
     "text": [
      "vocabulary size:  3765\n"
     ]
    }
   ],
   "source": [
    "vocabulary = list(\n",
    "    {\n",
    "        token for token_sent in tokenized_sentences.values()\n",
    "        for token in token_sent\n",
    "    }\n",
    ")\n",
    "print('vocabulary size: ', len(vocabulary))"
   ]
  },
  {
   "cell_type": "markdown",
   "metadata": {},
   "source": [
    "# Embeddings"
   ]
  },
  {
   "cell_type": "code",
   "execution_count": 32,
   "metadata": {},
   "outputs": [
    {
     "name": "stdout",
     "output_type": "stream",
     "text": [
      "The length of the embeddings with wv.vectors is 3765\n",
      "The length of the embedding with wv is 3765\n"
     ]
    }
   ],
   "source": [
    "# Train Word2Vec model\n",
    "model = Word2Vec(\n",
    "    tokenized_sentences.values(),\n",
    "    vector_size=100,\n",
    "    window=5,\n",
    "    min_count=1,\n",
    "    workers=4\n",
    "    #sg=1, # 1 for Skip-Gram, default 0 for BGOW\n",
    "    # SG is more computationally costly for bug data BGOW might be as good!\n",
    ")\n",
    "# Save the trained model\n",
    "model.save(\"small_word2vec.model\")\n",
    "embeddings = model.wv.vectors\n",
    "embeds = model.wv\n",
    "print(f\"The length of the embeddings with wv.vectors is {len(embeddings)}\")\n",
    "print(f\"The length of the embedding with wv is {len(embeds)}\")\n",
    "\n",
    "# Create a dictionary mapping each token to its embedding\n",
    "token_embeddings = {token: embeddings[i] for i, token in enumerate(vocabulary)}\n",
    "token_embeddings_with_ids = {\n",
    "    i: embeddings[i] for i, token in enumerate(vocabulary)\n",
    "}"
   ]
  },
  {
   "cell_type": "code",
   "execution_count": 38,
   "metadata": {},
   "outputs": [
    {
     "name": "stdout",
     "output_type": "stream",
     "text": [
      "Embedding for '▁happy': [-0.01102994 -0.19077699  0.46447647 -1.0125498  -0.374872   -0.630869\n",
      "  0.6027745   0.9606834  -1.2407521  -1.4744995  -0.32542947 -0.9579944\n",
      "  0.8536063   0.94020474 -0.14423439  0.21909064 -0.00725378 -0.5639201\n",
      " -0.61398417 -1.0377836   0.08764975  0.17330503  0.38137314 -0.3942622\n",
      "  1.1649728  -0.1826953  -0.1610005  -0.43996832 -0.3622171   0.21537629\n",
      "  1.2118291   0.87262595  0.46588743 -0.4666382   0.5205513   0.74417275\n",
      " -0.1511431  -0.41923487 -0.2680784  -0.5324718   0.5550724  -0.81215733\n",
      " -0.06027303  0.23636402 -0.02789747 -0.5857216   0.755192   -0.4271193\n",
      " -0.32232478  0.3431555   0.24147639  0.06752449 -0.43039113  0.05127047\n",
      "  0.26393446 -0.29193097 -0.47953898  0.35544926 -0.9251122   0.08964888\n",
      "  0.20621695  0.04197603  0.7394184  -0.18384862 -1.2065048  -0.53734195\n",
      " -0.679461   -0.21074373 -0.96567345  1.277809   -0.1685814   0.36402482\n",
      "  0.6832084   0.5689435  -0.05702838  0.33325988  0.55867225 -0.20658119\n",
      " -0.45986596  0.6572193   0.22160643  0.3816413  -0.6312265  -0.20224257\n",
      " -0.15533108  0.28286985  0.42066813  1.4852927   0.22990555  0.65923893\n",
      " -0.04593499  0.42845297 -0.85927606  0.53089875 -0.37907267  0.08137625\n",
      " -0.3963496  -0.9515622   1.0072433  -0.03295236]\n"
     ]
    }
   ],
   "source": [
    "# Load the trained Word2Vec model\n",
    "model = Word2Vec.load(\"small_word2vec.model\")\n",
    "\n",
    "# Get the embeddings of a word\n",
    "word = \"▁happy\"\n",
    "embedding = model.wv[word]\n",
    "\n",
    "print(f\"Embedding for '{word}': {embedding}\")"
   ]
  },
  {
   "cell_type": "code",
   "execution_count": 39,
   "metadata": {},
   "outputs": [
    {
     "name": "stdout",
     "output_type": "stream",
     "text": [
      "Similar words to '▁happy':\n",
      "▁excited: 0.919988751411438\n",
      "▁sad: 0.8788611888885498\n",
      "▁so: 0.8725952506065369\n",
      "▁much: 0.8707915544509888\n",
      "▁scared: 0.8674418330192566\n",
      "▁felt: 0.8576525449752808\n",
      "▁relieved: 0.8546566963195801\n",
      "▁proud: 0.8518763184547424\n",
      "▁very: 0.8418503403663635\n",
      "▁surprised: 0.8366981148719788\n"
     ]
    }
   ],
   "source": [
    "similar_words = model.wv.most_similar(word)\n",
    "\n",
    "# Print the similar words\n",
    "print(f\"Similar words to '{word}':\")\n",
    "for similar_word, similarity_score in similar_words:\n",
    "    print(f\"{similar_word}: {similarity_score}\")"
   ]
  }
 ],
 "metadata": {
  "kernelspec": {
   "display_name": "Python 3",
   "language": "python",
   "name": "python3"
  },
  "language_info": {
   "codemirror_mode": {
    "name": "ipython",
    "version": 3
   },
   "file_extension": ".py",
   "mimetype": "text/x-python",
   "name": "python",
   "nbconvert_exporter": "python",
   "pygments_lexer": "ipython3",
   "version": "3.12.2"
  }
 },
 "nbformat": 4,
 "nbformat_minor": 2
}
