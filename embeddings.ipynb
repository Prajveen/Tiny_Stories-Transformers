{
 "cells": [
  {
   "cell_type": "code",
   "execution_count": 1,
   "metadata": {},
   "outputs": [
    {
     "name": "stderr",
     "output_type": "stream",
     "text": [
      "/Users/beesamprajveenkumar/miniconda3/lib/python3.12/site-packages/tqdm/auto.py:21: TqdmWarning: IProgress not found. Please update jupyter and ipywidgets. See https://ipywidgets.readthedocs.io/en/stable/user_install.html\n",
      "  from .autonotebook import tqdm as notebook_tqdm\n"
     ]
    }
   ],
   "source": [
    "import numpy as np\n",
    "import pandas as pd\n",
    "from datasets import load_dataset\n",
    "import sentencepiece as spm\n",
    "import gensim\n",
    "from gensim.models import Word2Vec\n",
    "import json"
   ]
  },
  {
   "cell_type": "code",
   "execution_count": 2,
   "metadata": {},
   "outputs": [
    {
     "name": "stdout",
     "output_type": "stream",
     "text": [
      "Total number of lines in the corpus.txt file: 22893436\n"
     ]
    }
   ],
   "source": [
    "# Specify the range of sentences you want to include\n",
    "start_index = 0  # Index of the first sentence you want to include\n",
    "end_index = 10000  # Index of the last sentence you want to include\n",
    "\n",
    "# Open the original corpus file for reading\n",
    "with open(\"corpus.txt\", \"r\") as original_file:\n",
    "    # Read all lines from the file\n",
    "    all_lines = original_file.readlines()\n",
    "\n",
    "# Count the number of lines\n",
    "num_lines = len(all_lines)\n",
    "\n",
    "print(f\"Total number of lines in the corpus.txt file: {num_lines}\")\n",
    "\n",
    "# Extract the subset of lines based on the specified range\n",
    "subset_lines = all_lines[start_index:end_index+1]  # Adding 1 to end_index to include it\n",
    "\n",
    "# Write the subset of lines to a new file\n",
    "with open(\"subset_corpus.txt\", \"w\") as subset_file:\n",
    "    subset_file.writelines(subset_lines)\n"
   ]
  },
  {
   "cell_type": "code",
   "execution_count": 3,
   "metadata": {},
   "outputs": [
    {
     "name": "stderr",
     "output_type": "stream",
     "text": [
      "sentencepiece_trainer.cc(178) LOG(INFO) Running command: --input=subset_corpus.txt --model_prefix=small_m --vocab_size=3927 --normalization_rule_name=nfkc_cf\n",
      "sentencepiece_trainer.cc(78) LOG(INFO) Starts training with : \n",
      "trainer_spec {\n",
      "  input: subset_corpus.txt\n",
      "  input_format: \n",
      "  model_prefix: small_m\n",
      "  model_type: UNIGRAM\n",
      "  vocab_size: 3927\n",
      "  self_test_sample_size: 0\n",
      "  character_coverage: 0.9995\n",
      "  input_sentence_size: 0\n",
      "  shuffle_input_sentence: 1\n",
      "  seed_sentencepiece_size: 1000000\n",
      "  shrinking_factor: 0.75\n",
      "  max_sentence_length: 4192\n",
      "  num_threads: 16\n",
      "  num_sub_iterations: 2\n",
      "  max_sentencepiece_length: 16\n",
      "  split_by_unicode_script: 1\n",
      "  split_by_number: 1\n",
      "  split_by_whitespace: 1\n",
      "  split_digits: 0\n",
      "  pretokenization_delimiter: \n",
      "  treat_whitespace_as_suffix: 0\n",
      "  allow_whitespace_only_pieces: 0\n",
      "  required_chars: \n",
      "  byte_fallback: 0\n",
      "  vocabulary_output_piece_score: 1\n",
      "  train_extremely_large_corpus: 0\n",
      "  seed_sentencepieces_file: \n",
      "  hard_vocab_limit: 1\n",
      "  use_all_vocab: 0\n",
      "  unk_id: 0\n",
      "  bos_id: 1\n",
      "  eos_id: 2\n",
      "  pad_id: -1\n",
      "  unk_piece: <unk>\n",
      "  bos_piece: <s>\n",
      "  eos_piece: </s>\n",
      "  pad_piece: <pad>\n",
      "  unk_surface:  ⁇ \n",
      "  enable_differential_privacy: 0\n",
      "  differential_privacy_noise_level: 0\n",
      "  differential_privacy_clipping_threshold: 0\n",
      "}\n",
      "normalizer_spec {\n",
      "  name: nfkc_cf\n",
      "  add_dummy_prefix: 1\n",
      "  remove_extra_whitespaces: 1\n",
      "  escape_whitespaces: 1\n",
      "  normalization_rule_tsv: \n",
      "}\n",
      "denormalizer_spec {}\n",
      "trainer_interface.cc(353) LOG(INFO) SentenceIterator is not specified. Using MultiFileSentenceIterator.\n",
      "trainer_interface.cc(185) LOG(INFO) Loading corpus: subset_corpus.txt\n",
      "trainer_interface.cc(409) LOG(INFO) Loaded all 5051 sentences\n",
      "trainer_interface.cc(425) LOG(INFO) Adding meta_piece: <unk>\n",
      "trainer_interface.cc(425) LOG(INFO) Adding meta_piece: <s>\n",
      "trainer_interface.cc(425) LOG(INFO) Adding meta_piece: </s>\n",
      "trainer_interface.cc(430) LOG(INFO) Normalizing sentences...\n",
      "trainer_interface.cc(539) LOG(INFO) all chars count=835437\n",
      "trainer_interface.cc(550) LOG(INFO) Done: 99.966% characters are covered.\n",
      "trainer_interface.cc(560) LOG(INFO) Alphabet size=36\n",
      "trainer_interface.cc(561) LOG(INFO) Final character coverage=0.99966\n",
      "trainer_interface.cc(592) LOG(INFO) Done! preprocessed 5046 sentences.\n",
      "unigram_model_trainer.cc(265) LOG(INFO) Making suffix array...\n",
      "unigram_model_trainer.cc(269) LOG(INFO) Extracting frequent sub strings... node_num=479331\n",
      "unigram_model_trainer.cc(312) LOG(INFO) Initialized 12829 seed sentencepieces\n",
      "trainer_interface.cc(598) LOG(INFO) Tokenizing input sentences with whitespace: 5046\n",
      "trainer_interface.cc(609) LOG(INFO) Done! 9722\n",
      "unigram_model_trainer.cc(602) LOG(INFO) Using 9722 sentences for EM training\n",
      "unigram_model_trainer.cc(618) LOG(INFO) EM sub_iter=0 size=5084 obj=9.3159 num_tokens=19055 num_tokens/piece=3.74803\n",
      "unigram_model_trainer.cc(618) LOG(INFO) EM sub_iter=1 size=3921 obj=7.39717 num_tokens=19108 num_tokens/piece=4.87325\n",
      "trainer_interface.cc(687) LOG(INFO) Saving model: small_m.model\n",
      "trainer_interface.cc(699) LOG(INFO) Saving vocabs: small_m.vocab\n"
     ]
    },
    {
     "data": {
      "text/plain": [
       "True"
      ]
     },
     "execution_count": 3,
     "metadata": {},
     "output_type": "execute_result"
    }
   ],
   "source": [
    "spm.SentencePieceTrainer.train('--input=subset_corpus.txt --model_prefix=small_m --vocab_size=3927 --normalization_rule_name=nfkc_cf')\n",
    "sp = spm.SentencePieceProcessor()\n",
    "sp.load('small_m.model')"
   ]
  },
  {
   "cell_type": "code",
   "execution_count": 4,
   "metadata": {},
   "outputs": [],
   "source": [
    "# Tokenized sentences as pieces\n",
    "tokenized_sentences = sp.encode_as_pieces(subset_lines)\n",
    "tokenized_sentences = {\n",
    "    subset_lines[i]: tokenized_sentences[i]\n",
    "    for i in range(0, len(subset_lines))\n",
    "}\n",
    "\n",
    "# Tokenized sentences as ids\n",
    "tokenized_sentences_with_ids = sp.encode_as_ids(subset_lines)\n",
    "tokenized_sentences_with_ids = {\n",
    "    subset_lines[i]: tokenized_sentences_with_ids[i]\n",
    "    for i in range(0, len(subset_lines))\n",
    "}"
   ]
  },
  {
   "cell_type": "code",
   "execution_count": 5,
   "metadata": {},
   "outputs": [
    {
     "name": "stdout",
     "output_type": "stream",
     "text": [
      "vocabulary size:  3765\n"
     ]
    }
   ],
   "source": [
    "vocabulary = list(\n",
    "    {\n",
    "        token for token_sent in tokenized_sentences.values()\n",
    "        for token in token_sent\n",
    "    }\n",
    ")\n",
    "print('vocabulary size: ', len(vocabulary))"
   ]
  },
  {
   "cell_type": "markdown",
   "metadata": {},
   "source": [
    "# Embeddings"
   ]
  },
  {
   "cell_type": "code",
   "execution_count": 6,
   "metadata": {},
   "outputs": [
    {
     "name": "stdout",
     "output_type": "stream",
     "text": [
      "The length of the embeddings with wv.vectors is 3765\n",
      "The length of the embedding with wv is 3765\n"
     ]
    }
   ],
   "source": [
    "# Train Word2Vec model\n",
    "model = Word2Vec(\n",
    "    tokenized_sentences.values(),\n",
    "    vector_size=100,\n",
    "    window=5,\n",
    "    min_count=1,\n",
    "    workers=4\n",
    "    #sg=1, # 1 for Skip-Gram, default 0 for BGOW\n",
    "    # SG is more computationally costly for bug data BGOW might be as good!\n",
    ")\n",
    "# Save the trained model\n",
    "model.save(\"small_word2vec.model\")\n",
    "embeddings = model.wv.vectors\n",
    "embeds = model.wv\n",
    "print(f\"The length of the embeddings with wv.vectors is {len(embeddings)}\")\n",
    "print(f\"The length of the embedding with wv is {len(embeds)}\")\n",
    "\n",
    "# Create a dictionary mapping each token to its embedding\n",
    "token_embeddings = {token: embeddings[i] for i, token in enumerate(vocabulary)}\n",
    "token_embeddings_with_ids = {\n",
    "    i: embeddings[i] for i, token in enumerate(vocabulary)\n",
    "}"
   ]
  },
  {
   "cell_type": "code",
   "execution_count": 7,
   "metadata": {},
   "outputs": [
    {
     "name": "stdout",
     "output_type": "stream",
     "text": [
      "Embedding for '▁happy': [-0.18930872 -0.3658714   0.23972197 -0.6109619  -0.8768496  -0.13622326\n",
      "  0.10373501 -0.13753134 -0.80557567 -0.6762138   0.07669332 -0.06175397\n",
      "  0.39594507  0.63344616 -0.33380193  0.58113176 -0.20738696 -0.39435822\n",
      " -0.422448   -0.47013718  0.04413772  0.41993368  0.11135497 -0.4304177\n",
      "  1.039249    0.1567777  -0.17144758 -0.07162035 -0.1553094  -0.24645993\n",
      "  0.41265914  0.9227355   0.3565301  -0.55990106  0.51909155  0.83321744\n",
      " -0.31594372 -0.44052303 -0.26385888 -0.41355833  0.74404526 -1.0657189\n",
      " -0.03619651  0.0628233  -0.20251249 -0.64448905  0.56800115 -0.3275801\n",
      " -0.48824784  0.473413   -0.01188486  0.15580404  0.05779416  0.06676568\n",
      "  0.49295136  0.0134197  -0.1255605   0.66052115 -0.42865375  0.14555936\n",
      "  0.2059935  -0.21149616  0.6078993  -0.04945381 -1.441568   -0.39993483\n",
      " -0.23215418  0.28482088 -0.99521863  1.6616209   0.14355545  0.12992221\n",
      "  0.9227397   0.33335307  0.09674026  0.41543236  0.48518592 -0.35784376\n",
      " -0.6252508   1.0908644  -0.28389776  0.16122219 -0.7142047   0.18617171\n",
      " -0.30681002 -0.19829465  0.2588011   1.9961962   0.9272392   0.6583773\n",
      "  0.6281603   0.8726201  -0.9775228   0.38205612  1.0958711   0.7343384\n",
      "  0.06689454 -0.9829864   1.5210067  -0.84754133]\n"
     ]
    }
   ],
   "source": [
    "# Load the trained Word2Vec model\n",
    "model = Word2Vec.load(\"small_word2vec.model\")\n",
    "\n",
    "# Get the embeddings of a word\n",
    "word = \"▁happy\"\n",
    "embedding = model.wv[word]\n",
    "\n",
    "print(f\"Embedding for '{word}': {embedding}\")"
   ]
  },
  {
   "cell_type": "code",
   "execution_count": 8,
   "metadata": {},
   "outputs": [
    {
     "name": "stdout",
     "output_type": "stream",
     "text": [
      "Similar words to '▁happy':\n",
      "▁excited: 0.9461204409599304\n",
      "▁sad: 0.8972897529602051\n",
      "▁curious: 0.8888179659843445\n",
      "▁proud: 0.873695969581604\n",
      "▁scared: 0.8688650727272034\n",
      "▁ashamed: 0.8582441210746765\n",
      "▁much: 0.8475256562232971\n",
      "▁very: 0.8392248749732971\n",
      "▁so: 0.8357988595962524\n",
      "▁lonely: 0.8294639587402344\n"
     ]
    }
   ],
   "source": [
    "similar_words = model.wv.most_similar(word)\n",
    "\n",
    "# Print the similar words\n",
    "print(f\"Similar words to '{word}':\")\n",
    "for similar_word, similarity_score in similar_words:\n",
    "    print(f\"{similar_word}: {similarity_score}\")"
   ]
  }
 ],
 "metadata": {
  "kernelspec": {
   "display_name": "Python 3",
   "language": "python",
   "name": "python3"
  },
  "language_info": {
   "codemirror_mode": {
    "name": "ipython",
    "version": 3
   },
   "file_extension": ".py",
   "mimetype": "text/x-python",
   "name": "python",
   "nbconvert_exporter": "python",
   "pygments_lexer": "ipython3",
   "version": "3.12.2"
  }
 },
 "nbformat": 4,
 "nbformat_minor": 2
}
